{
 "cells": [
  {
   "cell_type": "code",
   "execution_count": 81,
   "source": [
    "import PyPDF2 as pypdf \r\n",
    "import nltk\r\n",
    "from nltk.tokenize import sent_tokenize\r\n",
    "nltk.download('punkt')\r\n",
    "from nltk.tokenize import word_tokenize\r\n",
    "import numpy as np\r\n",
    "from os import path\r\n",
    "from nltk.probability import FreqDist\r\n",
    "import matplotlib.pyplot as plt\r\n",
    "\r\n",
    "\r\n"
   ],
   "outputs": [
    {
     "output_type": "stream",
     "name": "stderr",
     "text": [
      "[nltk_data] Downloading package punkt to\n",
      "[nltk_data]     C:\\Users\\Desktop\\AppData\\Roaming\\nltk_data...\n",
      "[nltk_data]   Package punkt is already up-to-date!\n"
     ]
    }
   ],
   "metadata": {}
  },
  {
   "cell_type": "markdown",
   "source": [
    "## Lendo o arquivo com o livro Memórias Póstumas de Brás Cubas baixado no Portal Domínio Público "
   ],
   "metadata": {}
  },
  {
   "cell_type": "code",
   "execution_count": 82,
   "source": [
    "pdfobj = open(\"memoriasBras.pdf\", \"rb\")\r\n",
    "reader = pypdf.PdfFileReader(pdfobj)\r\n",
    "#vendo o número de páginas \r\n",
    "print(reader.numPages)"
   ],
   "outputs": [
    {
     "output_type": "stream",
     "name": "stdout",
     "text": [
      "140\n"
     ]
    },
    {
     "output_type": "stream",
     "name": "stderr",
     "text": [
      "PdfReadWarning: Xref table not zero-indexed. ID numbers for objects will be corrected. [pdf.py:1736]\n"
     ]
    }
   ],
   "metadata": {}
  },
  {
   "cell_type": "markdown",
   "source": [
    "## Extraindo o texto do PDF e salvando em um arquivo .txt"
   ],
   "metadata": {}
  },
  {
   "cell_type": "code",
   "execution_count": 83,
   "source": [
    "num_pages = reader.numPages\r\n",
    "outfile = \"out_text.txt\"\r\n",
    "f = open(outfile, \"wb\")\r\n",
    "\r\n",
    "for page_number in range(0, num_pages):\r\n",
    "    pageObj = reader.getPage(page_number)\r\n",
    "    texts = pageObj.extractText()\r\n",
    "    f.write(texts.encode('utf8'))\r\n",
    "    \r\n",
    "f.close()"
   ],
   "outputs": [],
   "metadata": {}
  },
  {
   "cell_type": "markdown",
   "source": [
    "## Criando uma função para ler o livro "
   ],
   "metadata": {}
  },
  {
   "cell_type": "code",
   "execution_count": 84,
   "source": [
    "def read_book(title_path):  \r\n",
    "    with open(title_path, \"r\", encoding =\"utf8\") as current_file:\r\n",
    "        text = current_file.read()\r\n",
    "        text = text.replace(\"\\n\", \"\").replace(\"\\r\", \"\")\r\n",
    "    return text\r\n",
    " \r\n"
   ],
   "outputs": [],
   "metadata": {}
  },
  {
   "cell_type": "markdown",
   "source": [
    "## Lendo o livro "
   ],
   "metadata": {}
  },
  {
   "cell_type": "code",
   "execution_count": 85,
   "source": [
    "text = read_book(\"out_text.txt\")\r\n",
    "tokenized_word=word_tokenize(text)\r\n",
    "# Deixando em letras minusculas \r\n",
    "tokenized_word_2 = [w.lower() for w in tokenized_word]\r\n"
   ],
   "outputs": [],
   "metadata": {}
  },
  {
   "cell_type": "markdown",
   "source": [
    "## Removendo stopwords (preposições, conjunções e outras palavras que não nos interessam)"
   ],
   "metadata": {}
  },
  {
   "cell_type": "code",
   "execution_count": 86,
   "source": [
    "from nltk.corpus import stopwords\r\n",
    "nltk.download('stopwords')\r\n",
    "stop_words = set(stopwords.words(\"portuguese\"))\r\n",
    "\r\n",
    "#Adicionando mais stopwords\r\n",
    "stop_words.update((',','.',';','š','!','...','?', ':', '/', 'capítulo'))\r\n",
    "\r\n",
    "tokenized_word_final = []\r\n",
    "for p in tokenized_word_2:\r\n",
    "    if p not in stop_words:\r\n",
    "        tokenized_word_final.append(p)"
   ],
   "outputs": [
    {
     "output_type": "stream",
     "name": "stderr",
     "text": [
      "[nltk_data] Downloading package stopwords to\n",
      "[nltk_data]     C:\\Users\\Desktop\\AppData\\Roaming\\nltk_data...\n",
      "[nltk_data]   Package stopwords is already up-to-date!\n"
     ]
    }
   ],
   "metadata": {}
  },
  {
   "cell_type": "markdown",
   "source": [
    "# As 20 palavras mais usadas por Machado de Assis em Memórias Póstumas de Brás Cubas"
   ],
   "metadata": {}
  },
  {
   "cell_type": "code",
   "execution_count": 87,
   "source": [
    "from nltk.probability import FreqDist\r\n",
    "\r\n",
    "fdist = FreqDist(tokenized_word_final)\r\n",
    "fdist.most_common(20)\r\n",
    "\r\n",
    "fdist.plot(20,cumulative=False)\r\n",
    "\r\n"
   ],
   "outputs": [
    {
     "output_type": "display_data",
     "data": {
      "image/png": "[encoded data removed]",
      "text/plain": [
       "<Figure size 432x288 with 1 Axes>"
      ]
     },
     "metadata": {
      "needs_background": "light"
     }
    },
    {
     "output_type": "execute_result",
     "data": {
      "text/plain": [
       "<AxesSubplot:xlabel='Samples', ylabel='Counts'>"
      ]
     },
     "metadata": {},
     "execution_count": 87
    }
   ],
   "metadata": {}
  },
  {
   "cell_type": "markdown",
   "source": [],
   "metadata": {}
  }
 ],
 "metadata": {
  "orig_nbformat": 4,
  "language_info": {
   "name": "python",
   "version": "3.9.5",
   "mimetype": "text/x-python",
   "codemirror_mode": {
    "name": "ipython",
    "version": 3
   },
   "pygments_lexer": "ipython3",
   "nbconvert_exporter": "python",
   "file_extension": ".py"
  },
  "kernelspec": {
   "name": "python3",
   "display_name": "Python 3.9.5 64-bit"
  },
  "interpreter": {
   "hash": "ee5cc6fef2d70a7e71ee3826687cbd150f18158e0b1eef11d4f4f92bb920e304"
  }
 },
 "nbformat": 4,
 "nbformat_minor": 2
}